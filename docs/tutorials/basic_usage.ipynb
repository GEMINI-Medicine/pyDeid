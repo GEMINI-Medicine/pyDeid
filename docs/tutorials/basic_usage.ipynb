{
 "cells": [
  {
   "cell_type": "markdown",
   "id": "89a878db",
   "metadata": {},
   "source": [
    "# Getting Started With `pyDeid`"
   ]
  },
  {
   "cell_type": "markdown",
   "id": "4312f594",
   "metadata": {},
   "source": [
    "Follow the installation instructions in the [README.md](https://gitlab.smh.smhroot.net/geminidata/pydeid) before running this notebook."
   ]
  },
  {
   "cell_type": "markdown",
   "id": "3bb62534",
   "metadata": {},
   "source": [
    "## Running a basic example"
   ]
  },
  {
   "cell_type": "markdown",
   "id": "a85e1fcb",
   "metadata": {},
   "source": [
    "If running this notebook locally, without using a virtual environment- run the block of code below (note that the path added to the search path is taken from the output of `!pip show pydeid`):"
   ]
  },
  {
   "cell_type": "code",
   "execution_count": 1,
   "id": "d1902612",
   "metadata": {},
   "outputs": [],
   "source": [
    "import sys\n",
    "sys.path.insert(0,'/path/from/pip/show/pydeid')"
   ]
  },
  {
   "cell_type": "markdown",
   "id": "f189e074",
   "metadata": {},
   "source": [
    "For this demo, import the following functions from `pyDeid`.\n",
    "\n",
    "`deid_string`, `reid_string`, and `display_deid` are only imported for demonstration purposes and are not required in the usual workflow. These can be useful to test and debug `pyDeid` and may be useful to investigate errors if they occur during the de-identification process."
   ]
  },
  {
   "cell_type": "code",
   "execution_count": 2,
   "id": "aea3ce8b",
   "metadata": {},
   "outputs": [],
   "source": [
    "from pyDeid import pyDeid, deid_string, reid_string, display_deid"
   ]
  },
  {
   "cell_type": "markdown",
   "id": "b01d71fc",
   "metadata": {},
   "source": [
    "Test out the installation using the following example:"
   ]
  },
  {
   "cell_type": "code",
   "execution_count": 7,
   "id": "b2417be7",
   "metadata": {},
   "outputs": [],
   "source": [
    "original_string = 'Justin Bieber was born in Stratford on March 1st, 1994.'\n",
    "phi, new_string = deid_string(original_string)"
   ]
  },
  {
   "cell_type": "markdown",
   "id": "2f2953d4",
   "metadata": {},
   "source": [
    "`deid_string` takes as input a string, and outputs a `new_string` with the PHI found in the original string replaced with surrogates, as well as a `phi` list of information regarding the found PHI:"
   ]
  },
  {
   "cell_type": "code",
   "execution_count": 8,
   "id": "6d068d0a",
   "metadata": {},
   "outputs": [
    {
     "data": {
      "text/plain": [
       "[{'phi_start': 0,\n",
       "  'phi_end': 6,\n",
       "  'phi': 'Justin',\n",
       "  'surrogate_start': 0,\n",
       "  'surrogate_end': 7,\n",
       "  'surrogate': 'Lorinda',\n",
       "  'types': ['Female First Name (ambig)',\n",
       "   'Male First Name (ambig)',\n",
       "   'Last Name (ambig)',\n",
       "   'First Name8 (NamePattern2)']},\n",
       " {'phi_start': 7,\n",
       "  'phi_end': 13,\n",
       "  'phi': 'Bieber',\n",
       "  'surrogate_start': 8,\n",
       "  'surrogate_end': 13,\n",
       "  'surrogate': 'Pronk',\n",
       "  'types': ['Last Name (un)']},\n",
       " {'phi_start': 36,\n",
       "  'phi_end': 51,\n",
       "  'phi': Date(date_string='March 1st, 1994', day='1', month='March', year='1994'),\n",
       "  'surrogate_start': 36,\n",
       "  'surrogate_end': 45,\n",
       "  'surrogate': '2006/13/5',\n",
       "  'types': ['Month Day Year (2) [Month dd, yy(yy)]']}]"
      ]
     },
     "execution_count": 8,
     "metadata": {},
     "output_type": "execute_result"
    }
   ],
   "source": [
    "phi"
   ]
  },
  {
   "cell_type": "code",
   "execution_count": 9,
   "id": "23f48672",
   "metadata": {},
   "outputs": [
    {
     "data": {
      "text/plain": [
       "'Lorinda Pronk was born in London on 2006/13/5.'"
      ]
     },
     "execution_count": 9,
     "metadata": {},
     "output_type": "execute_result"
    }
   ],
   "source": [
    "new_string"
   ]
  },
  {
   "cell_type": "markdown",
   "id": "4ea6dbae",
   "metadata": {},
   "source": [
    "## `pyDeid` Features"
   ]
  },
  {
   "cell_type": "markdown",
   "id": "c6293156",
   "metadata": {},
   "source": [
    "`display_deid` allows for visualization of the de-identification in interactive settings such as in Jupyter notebooks. This can be useful for demonstration and debugging:"
   ]
  },
  {
   "cell_type": "code",
   "execution_count": 10,
   "id": "b6c64dba",
   "metadata": {},
   "outputs": [
    {
     "data": {
      "text/html": [
       "<span class=\"tex2jax_ignore\"><div class=\"entities\" style=\"line-height: 2.5; direction: ltr\">\n",
       "<mark class=\"entity\" style=\"background: #ddd; padding: 0.45em 0.6em; margin: 0 0.25em; line-height: 1; border-radius: 0.35em;\">\n",
       "    Justin\n",
       "    <span style=\"font-size: 0.8em; font-weight: bold; line-height: 1; border-radius: 0.35em; text-transform: uppercase; vertical-align: middle; margin-left: 0.5rem\">NAME</span>\n",
       "</mark>\n",
       " \n",
       "<mark class=\"entity\" style=\"background: #ddd; padding: 0.45em 0.6em; margin: 0 0.25em; line-height: 1; border-radius: 0.35em;\">\n",
       "    Bieber\n",
       "    <span style=\"font-size: 0.8em; font-weight: bold; line-height: 1; border-radius: 0.35em; text-transform: uppercase; vertical-align: middle; margin-left: 0.5rem\">NAME</span>\n",
       "</mark>\n",
       " was born in London on \n",
       "<mark class=\"entity\" style=\"background: #bfe1d9; padding: 0.45em 0.6em; margin: 0 0.25em; line-height: 1; border-radius: 0.35em;\">\n",
       "    March 1st, 1994\n",
       "    <span style=\"font-size: 0.8em; font-weight: bold; line-height: 1; border-radius: 0.35em; text-transform: uppercase; vertical-align: middle; margin-left: 0.5rem\">DATE</span>\n",
       "</mark>\n",
       ".</div></span>"
      ],
      "text/plain": [
       "<IPython.core.display.HTML object>"
      ]
     },
     "metadata": {},
     "output_type": "display_data"
    }
   ],
   "source": [
    "display_deid(original_string, phi)"
   ]
  },
  {
   "cell_type": "markdown",
   "id": "517f83b3",
   "metadata": {},
   "source": [
    "We can also re-identify the string to return back the original string:"
   ]
  },
  {
   "cell_type": "code",
   "execution_count": 11,
   "id": "b9fa216c",
   "metadata": {},
   "outputs": [
    {
     "data": {
      "text/plain": [
       "'Justin Bieber was born in London on March 1st, 1994.'"
      ]
     },
     "execution_count": 11,
     "metadata": {},
     "output_type": "execute_result"
    }
   ],
   "source": [
    "reid_string(new_string, phi)"
   ]
  },
  {
   "cell_type": "markdown",
   "id": "5f55979e",
   "metadata": {},
   "source": [
    "Some sites may have custom identifiers. We can also replace these by supplying a custom regular expression as a named argument to either `deid_string` or `pyDeid` as follows:"
   ]
  },
  {
   "cell_type": "code",
   "execution_count": 12,
   "id": "0a60e1fd",
   "metadata": {},
   "outputs": [
    {
     "name": "stdout",
     "output_type": "stream",
     "text": [
      "Supplied custom regexes through **kwargs (see custom_regexes in docstring):\n",
      "\n",
      "- niagara_patient_id : NH\\d{5}\n",
      "\n",
      "These custom patterns will be replaced with <PHI>.\n",
      "\n"
     ]
    }
   ],
   "source": [
    "original_string = 'Niagara has a custom patient identifier in the format NH12345.'\n",
    "\n",
    "phi, new_string = deid_string(original_string, niagara_patient_id = 'NH\\d{5}')"
   ]
  },
  {
   "cell_type": "code",
   "execution_count": 13,
   "id": "762ee3a7",
   "metadata": {},
   "outputs": [
    {
     "data": {
      "text/plain": [
       "'Niagara has a custom patient identifier in the format <PHI>.'"
      ]
     },
     "execution_count": 13,
     "metadata": {},
     "output_type": "execute_result"
    }
   ],
   "source": [
    "new_string"
   ]
  },
  {
   "cell_type": "markdown",
   "id": "4e6a8dad",
   "metadata": {},
   "source": [
    "Note that the name of the argument that was supplied is used to identify the PHI type:"
   ]
  },
  {
   "cell_type": "code",
   "execution_count": 14,
   "id": "7325f42c",
   "metadata": {},
   "outputs": [
    {
     "data": {
      "text/plain": [
       "[{'phi_start': 54,\n",
       "  'phi_end': 61,\n",
       "  'phi': 'NH12345',\n",
       "  'surrogate_start': 54,\n",
       "  'surrogate_end': 59,\n",
       "  'surrogate': '<PHI>',\n",
       "  'types': ['niagara_patient_id']}]"
      ]
     },
     "execution_count": 14,
     "metadata": {},
     "output_type": "execute_result"
    }
   ],
   "source": [
    "phi"
   ]
  },
  {
   "cell_type": "markdown",
   "id": "22ab9daf",
   "metadata": {},
   "source": [
    "Currently these \"custom\" regular expressions are replaced with `<PHI>` placeholders, but in the future the user will be able to supply a custom replacement string generator function."
   ]
  },
  {
   "cell_type": "markdown",
   "id": "60d48532",
   "metadata": {},
   "source": [
    "We also have the ability to use a CNN-based Named Entity Recognition pass on the string to identify any missed names. See how rare names are treated *without* named entity recognition:"
   ]
  },
  {
   "cell_type": "code",
   "execution_count": 21,
   "id": "60b9a5a5",
   "metadata": {},
   "outputs": [
    {
     "data": {
      "text/html": [
       "<span class=\"tex2jax_ignore\"><div class=\"entities\" style=\"line-height: 2.5; direction: ltr\">Frodo Baggins was born in Middle Earth.</div></span>"
      ],
      "text/plain": [
       "<IPython.core.display.HTML object>"
      ]
     },
     "metadata": {},
     "output_type": "display_data"
    }
   ],
   "source": [
    "original_string = 'Frodo Baggins was born in Middle Earth.'\n",
    "\n",
    "phi, new_string = deid_string(\n",
    "    original_string, \n",
    "    named_entity_recognition=False\n",
    ")\n",
    "\n",
    "display_deid(original_string, phi)"
   ]
  },
  {
   "cell_type": "markdown",
   "id": "28fe56e6",
   "metadata": {},
   "source": [
    "And *with* named entity recognition:"
   ]
  },
  {
   "cell_type": "code",
   "execution_count": 27,
   "id": "30156f62",
   "metadata": {},
   "outputs": [
    {
     "data": {
      "text/html": [
       "<span class=\"tex2jax_ignore\"><div class=\"entities\" style=\"line-height: 2.5; direction: ltr\">\n",
       "<mark class=\"entity\" style=\"background: #ddd; padding: 0.45em 0.6em; margin: 0 0.25em; line-height: 1; border-radius: 0.35em;\">\n",
       "    Frodo\n",
       "    <span style=\"font-size: 0.8em; font-weight: bold; line-height: 1; border-radius: 0.35em; text-transform: uppercase; vertical-align: middle; margin-left: 0.5rem\">NAME</span>\n",
       "</mark>\n",
       " \n",
       "<mark class=\"entity\" style=\"background: #ddd; padding: 0.45em 0.6em; margin: 0 0.25em; line-height: 1; border-radius: 0.35em;\">\n",
       "    Baggins\n",
       "    <span style=\"font-size: 0.8em; font-weight: bold; line-height: 1; border-radius: 0.35em; text-transform: uppercase; vertical-align: middle; margin-left: 0.5rem\">NAME</span>\n",
       "</mark>\n",
       " was born in Middle Earth.</div></span>"
      ],
      "text/plain": [
       "<IPython.core.display.HTML object>"
      ]
     },
     "metadata": {},
     "output_type": "display_data"
    }
   ],
   "source": [
    "phi, new_string = deid_string(\n",
    "    original_string, \n",
    "    named_entity_recognition=True\n",
    ")\n",
    "\n",
    "display_deid(original_string, phi)"
   ]
  },
  {
   "cell_type": "markdown",
   "id": "68967b47",
   "metadata": {},
   "source": [
    "However, since we have access to patient and doctor names in our master linking logs (MLLs), we will not need to use named entity recognition in our workflow (more on this in section 4.1).\n",
    "\n",
    "We can supply a list of:\n",
    "\n",
    "1. Patient first names (through `custom_patient_first_names`)\n",
    "2. Patient last names (through `custom_patient_last_names`)\n",
    "3. Doctor first names (through `custom_dr_first_names`)\n",
    "4. Doctor last names (through `custom_dr_last_names`)\n",
    "\n",
    "See the example usage below:"
   ]
  },
  {
   "cell_type": "code",
   "execution_count": 28,
   "id": "407237a4",
   "metadata": {},
   "outputs": [
    {
     "data": {
      "text/html": [
       "<span class=\"tex2jax_ignore\"><div class=\"entities\" style=\"line-height: 2.5; direction: ltr\">\n",
       "<mark class=\"entity\" style=\"background: #ddd; padding: 0.45em 0.6em; margin: 0 0.25em; line-height: 1; border-radius: 0.35em;\">\n",
       "    Frodo\n",
       "    <span style=\"font-size: 0.8em; font-weight: bold; line-height: 1; border-radius: 0.35em; text-transform: uppercase; vertical-align: middle; margin-left: 0.5rem\">NAME</span>\n",
       "</mark>\n",
       " \n",
       "<mark class=\"entity\" style=\"background: #ddd; padding: 0.45em 0.6em; margin: 0 0.25em; line-height: 1; border-radius: 0.35em;\">\n",
       "    Baggins\n",
       "    <span style=\"font-size: 0.8em; font-weight: bold; line-height: 1; border-radius: 0.35em; text-transform: uppercase; vertical-align: middle; margin-left: 0.5rem\">NAME</span>\n",
       "</mark>\n",
       " was born in Middle Earth.</div></span>"
      ],
      "text/plain": [
       "<IPython.core.display.HTML object>"
      ]
     },
     "metadata": {},
     "output_type": "display_data"
    }
   ],
   "source": [
    "phi, new_string = deid_string(\n",
    "    original_string, \n",
    "    custom_patient_first_names={'Frodo'}, \n",
    "    custom_patient_last_names={'Baggins'}\n",
    ")\n",
    "\n",
    "display_deid(original_string, phi)"
   ]
  },
  {
   "cell_type": "markdown",
   "id": "30bfbd32",
   "metadata": {},
   "source": [
    "Note that these custom namelists are supplied as Python `Sets` for fast lookup."
   ]
  },
  {
   "cell_type": "markdown",
   "id": "b31412cb",
   "metadata": {},
   "source": [
    "That details for all the above options are available through the function docstring:"
   ]
  },
  {
   "cell_type": "code",
   "execution_count": null,
   "id": "f6515c57",
   "metadata": {},
   "outputs": [],
   "source": [
    "deid_string?"
   ]
  },
  {
   "cell_type": "markdown",
   "id": "6df8bc33",
   "metadata": {},
   "source": [
    "## Bulk De-identification"
   ]
  },
  {
   "cell_type": "markdown",
   "id": "1593a3fa",
   "metadata": {},
   "source": [
    "In our workflow, we will be de-identifying large CSVs of free-text clinical notes and radiology reports (at present). Although users can write a custom loop using `deid_string` to de-identify a large CSV, this has already been done for you in the `pyDeid` function (with some useful additional features)."
   ]
  },
  {
   "cell_type": "markdown",
   "id": "113993b9",
   "metadata": {},
   "source": [
    "The most basic usage of the function only requires the user to supply the name of the file to be identified (`original_file`), the name of the column containing a unique identifier for the encounter (`encounter_id_varname`- in our applications this will generally be the `genc_id`), and the name of the column containing the note text to be de-identified (`note_varname`).\n",
    "\n",
    "Note that some sites will report multiple notes per encounter. Therefore an `encounter_id_varname` is not enough to uniquely identify a note. In these cases, please supply a `note_id_varname` in addition to the `encounter_id_varname`."
   ]
  },
  {
   "cell_type": "markdown",
   "id": "13dbdd27",
   "metadata": {},
   "source": [
    "Below we will de-identify a file containing dialog from Lord of the Rings:"
   ]
  },
  {
   "cell_type": "code",
   "execution_count": null,
   "id": "20183349",
   "metadata": {},
   "outputs": [],
   "source": [
    "pyDeid(\n",
    "    original_file='./tests/test.csv',\n",
    "    encounter_id_varname='encounter_id',\n",
    "    note_id_varname='note_id',\n",
    "    note_varname='note_text'\n",
    ")"
   ]
  },
  {
   "cell_type": "markdown",
   "id": "51ecbfd0",
   "metadata": {},
   "source": [
    "Note that `pyDeid` accepts many other arguments, which can be seen in the function docstring:"
   ]
  },
  {
   "cell_type": "code",
   "execution_count": 29,
   "id": "c4dc5d7b",
   "metadata": {},
   "outputs": [],
   "source": [
    "pyDeid?"
   ]
  },
  {
   "cell_type": "markdown",
   "id": "d660f01a",
   "metadata": {},
   "source": [
    "Note that just as in `deid_string`, custom regular expressions can be supplied with named arguments through `**custom_regexes`,  named entity recognition can be used through `named_entity_recognition`, and custom patient and doctor names can be supplied through `custom_{dr/patient}_{first/last}_names`.\n",
    "\n",
    "We can specify a custom output filename for the de-identified file through `new_file`, and for the found PHI details through `phi_output_file`. If these names are not specified, they will default to `{original filename without extension}__DEID.csv` and `{original filename without extension}__PHI.csv` respectively.\n",
    "\n",
    "By default, `phi_output_file` is saved as a `csv`. This is the recommended file format for large files (we can consider all files for our applications to be \"large\"). `verbose` also defaults to true in order to print useful status updates during the run and diagnostics after the run. Please see the function docstring for more details."
   ]
  },
  {
   "cell_type": "markdown",
   "id": "1d1cd1dc",
   "metadata": {},
   "source": [
    "## Full Working Example"
   ]
  },
  {
   "cell_type": "markdown",
   "id": "04d691c1",
   "metadata": {},
   "source": [
    "Below we show how to de-identify a file in an \"average\" workflow:"
   ]
  },
  {
   "cell_type": "markdown",
   "id": "aba7ee4e",
   "metadata": {},
   "source": [
    "First we read the \"MLLs\" into python `Sets`."
   ]
  },
  {
   "cell_type": "code",
   "execution_count": 30,
   "id": "5dd47c62",
   "metadata": {},
   "outputs": [
    {
     "data": {
      "text/html": [
       "<div>\n",
       "<style scoped>\n",
       "    .dataframe tbody tr th:only-of-type {\n",
       "        vertical-align: middle;\n",
       "    }\n",
       "\n",
       "    .dataframe tbody tr th {\n",
       "        vertical-align: top;\n",
       "    }\n",
       "\n",
       "    .dataframe thead th {\n",
       "        text-align: right;\n",
       "    }\n",
       "</style>\n",
       "<table border=\"1\" class=\"dataframe\">\n",
       "  <thead>\n",
       "    <tr style=\"text-align: right;\">\n",
       "      <th></th>\n",
       "      <th>id</th>\n",
       "      <th>char</th>\n",
       "    </tr>\n",
       "  </thead>\n",
       "  <tbody>\n",
       "    <tr>\n",
       "      <th>0</th>\n",
       "      <td>0</td>\n",
       "      <td>DEAGOL</td>\n",
       "    </tr>\n",
       "    <tr>\n",
       "      <th>1</th>\n",
       "      <td>1</td>\n",
       "      <td>SMEAGOL</td>\n",
       "    </tr>\n",
       "    <tr>\n",
       "      <th>2</th>\n",
       "      <td>2</td>\n",
       "      <td>DEAGOL</td>\n",
       "    </tr>\n",
       "    <tr>\n",
       "      <th>3</th>\n",
       "      <td>3</td>\n",
       "      <td>SMEAGOL</td>\n",
       "    </tr>\n",
       "    <tr>\n",
       "      <th>4</th>\n",
       "      <td>4</td>\n",
       "      <td>SMEAGOL</td>\n",
       "    </tr>\n",
       "  </tbody>\n",
       "</table>\n",
       "</div>"
      ],
      "text/plain": [
       "   id     char\n",
       "0   0   DEAGOL\n",
       "1   1  SMEAGOL\n",
       "2   2   DEAGOL\n",
       "3   3  SMEAGOL\n",
       "4   4  SMEAGOL"
      ]
     },
     "execution_count": 30,
     "metadata": {},
     "output_type": "execute_result"
    }
   ],
   "source": [
    "import pandas as pd\n",
    "\n",
    "MLL_filepath='./tests/mll.csv'\n",
    "MLL = pd.read_csv(MLL_filepath)\n",
    "\n",
    "MLL.head()"
   ]
  },
  {
   "cell_type": "code",
   "execution_count": 33,
   "id": "e96756be",
   "metadata": {},
   "outputs": [],
   "source": [
    "character_first_names = set(MLL.char)"
   ]
  },
  {
   "cell_type": "code",
   "execution_count": 34,
   "id": "a1c77dc6",
   "metadata": {},
   "outputs": [
    {
     "name": "stderr",
     "output_type": "stream",
     "text": [
      "Processing encounter 2389: : 2390it [10:31,  3.79it/s]"
     ]
    },
    {
     "name": "stdout",
     "output_type": "stream",
     "text": [
      "Diagnostics:\n",
      "                - chars/s = 230.95986752654892\n",
      "                - s/note = 0.26413507750842363\n"
     ]
    },
    {
     "name": "stderr",
     "output_type": "stream",
     "text": [
      "\n"
     ]
    }
   ],
   "source": [
    "pyDeid(\n",
    "    original_file='./tests/test.csv',\n",
    "    encounter_id_varname='encounter_id',\n",
    "    note_id_varname='note_id',\n",
    "    note_varname='note_text',\n",
    "    custom_patient_first_names=character_first_names\n",
    ")"
   ]
  }
 ],
 "metadata": {
  "kernelspec": {
   "display_name": "Python 3 (ipykernel)",
   "language": "python",
   "name": "python3"
  },
  "language_info": {
   "codemirror_mode": {
    "name": "ipython",
    "version": 3
   },
   "file_extension": ".py",
   "mimetype": "text/x-python",
   "name": "python",
   "nbconvert_exporter": "python",
   "pygments_lexer": "ipython3",
   "version": "3.10.4"
  }
 },
 "nbformat": 4,
 "nbformat_minor": 5
}
